{
 "cells": [
  {
   "cell_type": "code",
   "execution_count": 2,
   "id": "3710501c",
   "metadata": {},
   "outputs": [
    {
     "name": "stderr",
     "output_type": "stream",
     "text": [
      "<>:2: SyntaxWarning: invalid escape sequence '\\m'\n",
      "<>:2: SyntaxWarning: invalid escape sequence '\\m'\n",
      "C:\\Users\\USER\\AppData\\Local\\Temp\\ipykernel_8240\\2656241723.py:2: SyntaxWarning: invalid escape sequence '\\m'\n",
      "  df = pl.read_csv(\"DATA\\meteo\\VRXA00.202310190530\")\n"
     ]
    }
   ],
   "source": [
    "import polars as pl\n",
    "df = pl.read_csv(\"DATA\\meteo\\VRXA00.202310190530\")"
   ]
  },
  {
   "cell_type": "code",
   "execution_count": 3,
   "id": "cbb10462",
   "metadata": {},
   "outputs": [
    {
     "name": "stdout",
     "output_type": "stream",
     "text": [
      "DATA\\meteo\\VRXA00.202310190530\n"
     ]
    },
    {
     "name": "stderr",
     "output_type": "stream",
     "text": [
      "<>:1: SyntaxWarning: invalid escape sequence '\\m'\n",
      "<>:1: SyntaxWarning: invalid escape sequence '\\m'\n",
      "C:\\Users\\USER\\AppData\\Local\\Temp\\ipykernel_8240\\1647807836.py:1: SyntaxWarning: invalid escape sequence '\\m'\n",
      "  File_path =(\"DATA\\meteo\\VRXA00.202310190530\")\n"
     ]
    }
   ],
   "source": [
    "File_path =(\"DATA\\meteo\\VRXA00.202310190530\") \n",
    "print(File_path)\n"
   ]
  },
  {
   "cell_type": "code",
   "execution_count": 4,
   "id": "6a0a96ab",
   "metadata": {},
   "outputs": [
    {
     "name": "stdout",
     "output_type": "stream",
     "text": [
      "['16082\\n', 'VRXA00 LSSW 190530\\n', '\\n', 'iii zzzztttt tre200s0 uor200s0 prestas0 fa1010z0 da1010z0 rre150z0 ta1200s0 ua1200s0 pa1stas0 fkl010z0 dkl010z0 ra1150z0 fkl010z1 gor000z0 ta2200s0 ua2200s0\\n', '187 202310190530 007.3 098.6 0662.9 003.4 329.6 00000.00 006.8 100.0 0662.7 003.9 008.6 00000.00 004.8 283.9 7.770 99.320\\n']\n"
     ]
    }
   ],
   "source": [
    "#Read file as text and print content \n",
    "with open(file=File_path, mode= \"r\") as fh:\n",
    "    file_content = fh.readlines()\n",
    "\n",
    "print(file_content)\n",
    "    "
   ]
  },
  {
   "cell_type": "code",
   "execution_count": 5,
   "id": "5caee2a2",
   "metadata": {},
   "outputs": [
    {
     "ename": "AttributeError",
     "evalue": "'list' object has no attribute 'split'",
     "output_type": "error",
     "traceback": [
      "\u001b[31m---------------------------------------------------------------------------\u001b[39m",
      "\u001b[31mAttributeError\u001b[39m                            Traceback (most recent call last)",
      "\u001b[36mCell\u001b[39m\u001b[36m \u001b[39m\u001b[32mIn[5]\u001b[39m\u001b[32m, line 5\u001b[39m\n\u001b[32m      2\u001b[39m headers=header.split()\n\u001b[32m      4\u001b[39m data_line=file_content[\u001b[32m2\u001b[39m].strip()\n\u001b[32m----> \u001b[39m\u001b[32m5\u001b[39m data_value=\u001b[43mfile_content\u001b[49m\u001b[43m.\u001b[49m\u001b[43msplit\u001b[49m()\n\u001b[32m      6\u001b[39m df=pd.DataFrame([data_value],columns=headers)\n\u001b[32m      7\u001b[39m \u001b[38;5;28mprint\u001b[39m(df)\n",
      "\u001b[31mAttributeError\u001b[39m: 'list' object has no attribute 'split'"
     ]
    }
   ],
   "source": [
    "header = file_content[3].strip()\n",
    "headers=header.split()\n",
    "\n",
    "data_line=file_content[2].strip()\n",
    "data_value=file_content.split()\n",
    "df=pd.DataFrame([data_value],columns=headers)\n",
    "print(df)"
   ]
  },
  {
   "cell_type": "code",
   "execution_count": null,
   "id": "059875f4",
   "metadata": {},
   "outputs": [
    {
     "name": "stdout",
     "output_type": "stream",
     "text": [
      "iii zzzztttt tre200s0 uor200s0 prestas0 fa1010z0 da1010z0 rre150z0 ta1200s0 ua1200s0 pa1stas0 fkl010z0 dkl010z0 ra1150z0 fkl010z1 gor000z0 ta2200s0 ua2200s0\n",
      "\n",
      "['iii', 'zzzztttt', 'tre200s0', 'uor200s0', 'prestas0', 'fa1010z0', 'da1010z0', 'rre150z0', 'ta1200s0', 'ua1200s0', 'pa1stas0', 'fkl010z0', 'dkl010z0', 'ra1150z0', 'fkl010z1', 'gor000z0', 'ta2200s0', 'ua2200s0']\n"
     ]
    }
   ],
   "source": [
    "header = file_content[3]\n",
    "print(header)\n",
    "\n",
    "header_list = header.split()\n",
    "print(header_list)"
   ]
  },
  {
   "cell_type": "code",
   "execution_count": null,
   "id": "5f8107b6",
   "metadata": {},
   "outputs": [
    {
     "name": "stdout",
     "output_type": "stream",
     "text": [
      "tre200s0\n"
     ]
    }
   ],
   "source": [
    "temperature= header_list[2]\n",
    "print(temperature)"
   ]
  },
  {
   "cell_type": "code",
   "execution_count": null,
   "id": "c1afa918",
   "metadata": {},
   "outputs": [
    {
     "name": "stdout",
     "output_type": "stream",
     "text": [
      "187 202310190530 007.3 098.6 0662.9 003.4 329.6 00000.00 006.8 100.0 0662.7 003.9 008.6 00000.00 004.8 283.9 7.770 99.320\n",
      "\n",
      "['187', '202310190530', '007.3', '098.6', '0662.9', '003.4', '329.6', '00000.00', '006.8', '100.0', '0662.7', '003.9', '008.6', '00000.00', '004.8', '283.9', '7.770', '99.320']\n",
      "7.3\n"
     ]
    }
   ],
   "source": [
    "Values = file_content[4]\n",
    "print(Values)\n",
    "Values = Values.split()\n",
    "print(Values)\n",
    "temperature_value=float(Values[2])\n",
    "print(temperature_value)"
   ]
  },
  {
   "cell_type": "code",
   "execution_count": null,
   "id": "ac7ecc1e",
   "metadata": {},
   "outputs": [
    {
     "name": "stdout",
     "output_type": "stream",
     "text": [
      "tre200s0 7.3\n"
     ]
    }
   ],
   "source": [
    "print(temperature,temperature_value)"
   ]
  },
  {
   "cell_type": "code",
   "execution_count": null,
   "id": "4bb7b1f2",
   "metadata": {},
   "outputs": [
    {
     "name": "stdout",
     "output_type": "stream",
     "text": [
      "1 : 1\n",
      "1 : 2\n",
      "1 : 4\n",
      "1 : 7\n",
      "1 : 11\n",
      "1 : 16\n"
     ]
    }
   ],
   "source": [
    "a = 1\n",
    "for i in range(10):\n",
    "    # a+= 1\n",
    "    a = a + i\n",
    "    if a > 20:\n",
    "        break\n",
    "    print(1, \":\", a)"
   ]
  },
  {
   "cell_type": "code",
   "execution_count": null,
   "id": "8765ae7d",
   "metadata": {},
   "outputs": [
    {
     "name": "stdout",
     "output_type": "stream",
     "text": [
      "['VRXA00.202310190000', 'VRXA00.202310190520', 'VRXA00.202310190530', 'VRXA00.202310190540', 'VRXA00.202310190550.zip', 'VRXA00.202310190600', 'VRXA00.202310190610', 'VRXA00.202310190620.zip', 'VRXA00.202310190630', 'VRXA00.202310190640', 'VRXA00.202310190650', 'VRXA00.202310190700', 'VRXA00.202401111520', 'VRXA00.202401111530', 'VRXA00.202401111540']\n"
     ]
    }
   ],
   "source": [
    "import os\n",
    "path = \"DATA/meteo\"\n",
    "files = os .listdir(path)\n",
    "print(files)\n"
   ]
  },
  {
   "cell_type": "code",
   "execution_count": null,
   "id": "090ab9ec",
   "metadata": {},
   "outputs": [
    {
     "name": "stdout",
     "output_type": "stream",
     "text": [
      "Last datetime: 202401111540\n",
      "Last temperature: /\n"
     ]
    }
   ],
   "source": [
    "import os\n",
    "\n",
    "path = \"DATA/meteo\"  # Make sure to set your correct path\n",
    "datetimes = []\n",
    "temperatures = []\n",
    "\n",
    "files = os.listdir(path)  # Fix: you were missing this line\n",
    "\n",
    "for file in files:\n",
    "    if \".zip\" in file:\n",
    "        continue\n",
    "    else:\n",
    "        # Extract datetime from filename\n",
    "        datetime = file.replace(\"VRXA00.\", \"\")\n",
    "        datetimes.append(datetime)\n",
    "\n",
    "        # Read file content\n",
    "        with open(os.path.join(path, file), 'r') as fh:\n",
    "            file_content = fh.readlines()\n",
    "            # Ensure file has enough lines and split line safely\n",
    "            if len(file_content) > 4:\n",
    "                line = file_content[4].split()\n",
    "                if len(line) > 2:\n",
    "                    temp = line[2]\n",
    "                    temperatures.append(temp)\n",
    "\n",
    "# Print results\n",
    "print(\"Last datetime:\", datetimes[-1] if datetimes else \"No datetime\")\n",
    "print(\"Last temperature:\", temperatures[-1] if temperatures else \"No temperature\")\n",
    "\n",
    "                        "
   ]
  },
  {
   "cell_type": "code",
   "execution_count": null,
   "id": "5060ad2e",
   "metadata": {},
   "outputs": [],
   "source": [
    "for file in files:\n",
    "    if  \".zip\":\n",
    "        continue\n",
    "    else:(file)"
   ]
  },
  {
   "cell_type": "code",
   "execution_count": null,
   "id": "fdbd09a5",
   "metadata": {},
   "outputs": [
    {
     "name": "stdout",
     "output_type": "stream",
     "text": [
      "9 : 55\n"
     ]
    }
   ],
   "source": [
    "a = a + i\n",
    "print(i, \":\", a)"
   ]
  },
  {
   "cell_type": "code",
   "execution_count": null,
   "id": "35ac9476",
   "metadata": {},
   "outputs": [
    {
     "name": "stdout",
     "output_type": "stream",
     "text": [
      "tre200s0\n"
     ]
    }
   ],
   "source": [
    "header_list[2].split()\n",
    "data_values=\n"
   ]
  },
  {
   "cell_type": "code",
   "execution_count": null,
   "id": "6f7cf739",
   "metadata": {},
   "outputs": [
    {
     "name": "stdout",
     "output_type": "stream",
     "text": [
      "listof header elements: tre200s0\n"
     ]
    }
   ],
   "source": [
    "header_list = header.split()[2]\n",
    "print(\"listof header elements:\", header_list)\n"
   ]
  },
  {
   "cell_type": "code",
   "execution_count": null,
   "id": "a7e97917",
   "metadata": {},
   "outputs": [],
   "source": [
    "with open"
   ]
  },
  {
   "cell_type": "code",
   "execution_count": null,
   "id": "b86dd0a3",
   "metadata": {},
   "outputs": [],
   "source": [
    "# Read file as text and print content\n",
    "with open(file=file_path, mode='r' )as fh:\n",
    "    \n",
    "info = fh.readlines"
   ]
  },
  {
   "cell_type": "code",
   "execution_count": null,
   "id": "1a9a2e9d",
   "metadata": {},
   "outputs": [
    {
     "name": "stdout",
     "output_type": "stream",
     "text": [
      "data/meteo/VRXA00.202310190530\n"
     ]
    }
   ],
   "source": [
    "file_path = \"data/meteo/VRXA00.202310190530\"\n",
    "print(file_path)"
   ]
  },
  {
   "cell_type": "code",
   "execution_count": null,
   "id": "326922e3",
   "metadata": {},
   "outputs": [
    {
     "name": "stdout",
     "output_type": "stream",
     "text": [
      "['16082\\n', 'VRXA00 LSSW 190530\\n', '\\n', 'iii zzzztttt tre200s0 uor200s0 prestas0 fa1010z0 da1010z0 rre150z0 ta1200s0 ua1200s0 pa1stas0 fkl010z0 dkl010z0 ra1150z0 fkl010z1 gor000z0 ta2200s0 ua2200s0\\n', '187 202310190530 007.3 098.6 0662.9 003.4 329.6 00000.00 006.8 100.0 0662.7 003.9 008.6 00000.00 004.8 283.9 7.770 99.320\\n']\n"
     ]
    }
   ],
   "source": [
    "# Read file as text and print content\n",
    "with open(file=file_path) as fh:\n",
    "    file_content = fh.readlines()\n",
    "\n",
    "print(file_content)"
   ]
  },
  {
   "cell_type": "code",
   "execution_count": null,
   "id": "7c280ae6",
   "metadata": {},
   "outputs": [
    {
     "name": "stdout",
     "output_type": "stream",
     "text": [
      "iii zzzztttt tre200s0 uor200s0 prestas0 fa1010z0 da1010z0 rre150z0 ta1200s0 ua1200s0 pa1stas0 fkl010z0 dkl010z0 ra1150z0 fkl010z1 gor000z0 ta2200s0 ua2200s0\n",
      "\n"
     ]
    }
   ],
   "source": [
    "header = file_content[3]\n",
    "print(header)"
   ]
  },
  {
   "cell_type": "code",
   "execution_count": null,
   "id": "a7f882a4",
   "metadata": {},
   "outputs": [
    {
     "name": "stdout",
     "output_type": "stream",
     "text": [
      "list of header elements: ['iii', 'zzzztttt', 'tre200s0', 'uor200s0', 'prestas0', 'fa1010z0', 'da1010z0', 'rre150z0', 'ta1200s0', 'ua1200s0', 'pa1stas0', 'fkl010z0', 'dkl010z0', 'ra1150z0', 'fkl010z1', 'gor000z0', 'ta2200s0', 'ua2200s0']\n"
     ]
    }
   ],
   "source": [
    "header_list = header.split()\n",
    "print(\"list of header elements:\", header_list)"
   ]
  },
  {
   "cell_type": "code",
   "execution_count": null,
   "id": "4dcf4bb9",
   "metadata": {},
   "outputs": [
    {
     "name": "stdout",
     "output_type": "stream",
     "text": [
      "iii zzzztttt tre200s0 uor200s0 prestas0 fa1010z0 da1010z0 rre150z0 ta1200s0 ua1200s0 pa1stas0 fkl010z0 dkl010z0 ra1150z0 fkl010z1 gor000z0 ta2200s0 ua2200s0\n",
      "\n"
     ]
    }
   ],
   "source": [
    "headers=file_content[3]\n",
    "print(headers)"
   ]
  },
  {
   "cell_type": "code",
   "execution_count": null,
   "id": "25add826",
   "metadata": {},
   "outputs": [
    {
     "name": "stdout",
     "output_type": "stream",
     "text": [
      "['187', '202310190530', '007.3', '098.6', '0662.9', '003.4', '329.6', '00000.00', '006.8', '100.0', '0662.7', '003.9', '008.6', '00000.00', '004.8', '283.9', '7.770', '99.320']\n"
     ]
    }
   ],
   "source": [
    "values=file_content[4].split()\n",
    "print(values)"
   ]
  },
  {
   "cell_type": "code",
   "execution_count": null,
   "id": "405b5c54",
   "metadata": {},
   "outputs": [
    {
     "name": "stdout",
     "output_type": "stream",
     "text": [
      "temperature value: 007.3\n"
     ]
    }
   ],
   "source": [
    "temp=values[2]\n",
    "print(\"temperature value:\",temp)"
   ]
  },
  {
   "cell_type": "code",
   "execution_count": null,
   "id": "22ea246b",
   "metadata": {},
   "outputs": [
    {
     "name": "stdout",
     "output_type": "stream",
     "text": [
      "value: 007.3\n",
      "type of value: <class 'str'>\n",
      "value as floating point number: 7.3\n",
      "type of the rounded value: <class 'int'>\n"
     ]
    }
   ],
   "source": [
    "value=file_content[4].split()[2]\n",
    "print(\"value:\", value)\n",
    "print(\"type of value:\", type(value))\n",
    "# print(int(value))\n",
    "print(\"value as floating point number:\", float(value))\n",
    "print(\"type of the rounded value:\", type(round(float(value))))"
   ]
  },
  {
   "cell_type": "code",
   "execution_count": null,
   "id": "590556c7",
   "metadata": {},
   "outputs": [
    {
     "name": "stdout",
     "output_type": "stream",
     "text": [
      "0 : 1\n",
      "1 : 2\n",
      "2 : 4\n",
      "3 : 7\n",
      "4 : 11\n",
      "5 : 16\n",
      "6 : a is too big\n",
      "7 : a is too big\n",
      "8 : a is too big\n",
      "9 : a is too big\n"
     ]
    }
   ],
   "source": [
    "a = 1\n",
    "\n",
    "for i in range(10):\n",
    "    # a += 1\n",
    "    a = a + i\n",
    "    if a < 20:\n",
    "        print(i, \":\", a)\n",
    "    else:\n",
    "        print(i, \":\", \"a is too big\")"
   ]
  },
  {
   "cell_type": "code",
   "execution_count": null,
   "id": "71c53ec4",
   "metadata": {},
   "outputs": [
    {
     "name": "stdout",
     "output_type": "stream",
     "text": [
      "VRXA00.202310190000\n",
      "VRXA00.202310190520\n",
      "VRXA00.202310190530\n",
      "VRXA00.202310190540\n",
      "VRXA00.202310190600\n",
      "VRXA00.202310190610\n",
      "VRXA00.202310190630\n",
      "VRXA00.202310190640\n",
      "VRXA00.202310190650\n",
      "VRXA00.202310190700\n",
      "VRXA00.202401111520\n",
      "VRXA00.202401111530\n",
      "VRXA00.202401111540\n"
     ]
    }
   ],
   "source": [
    "import os\n",
    "path = \"data/meteo\"\n",
    "\n",
    "files = os.listdir(path)\n",
    "\n",
    "for file in files:\n",
    "    if \".zip\" in file:\n",
    "        continue\n",
    "    else:\n",
    "        print(file)"
   ]
  },
  {
   "cell_type": "code",
   "execution_count": null,
   "id": "9301e997",
   "metadata": {},
   "outputs": [
    {
     "name": "stdout",
     "output_type": "stream",
     "text": [
      "VRXA00.202310190000 temp= 005.1\n",
      "VRXA00.202310190520 temp= /\n",
      "VRXA00.202310190530 temp= 007.3\n",
      "VRXA00.202310190540 temp= 007.0\n",
      "VRXA00.202310190600 temp= 007.8\n",
      "VRXA00.202310190610 temp= 008.6\n",
      "VRXA00.202310190630 temp= 008.0\n",
      "VRXA00.202310190640 temp= 008.1\n",
      "VRXA00.202310190650 temp= 008.5\n",
      "VRXA00.202310190700 temp= 008.6\n",
      "VRXA00.202401111520 temp= /\n",
      "VRXA00.202401111530 temp= /\n",
      "VRXA00.202401111540 temp= /\n"
     ]
    }
   ],
   "source": [
    "import os\n",
    "path = \"data/meteo\"\n",
    "\n",
    "files = os.listdir(path)\n",
    "\n",
    "for file in files:\n",
    "    if \".zip\" in file:\n",
    "        continue\n",
    "    else:\n",
    "        # print(file)\n",
    "\n",
    "        # Read file as text and print content\n",
    "        with open(file=os.path.join(path, file)) as fh:\n",
    "            file_content = fh.readlines()\n",
    "\n",
    "        temp = file_content[4].split()[2]\n",
    "        print(file, \"temp=\", temp)"
   ]
  },
  {
   "cell_type": "code",
   "execution_count": null,
   "id": "664e38ec",
   "metadata": {},
   "outputs": [
    {
     "name": "stdout",
     "output_type": "stream",
     "text": [
      "['005.1', '/', '007.3', '007.0', '007.8', '008.6', '008.0', '008.1', '008.5', '008.6', '/', '/', '/']\n"
     ]
    }
   ],
   "source": [
    "import os\n",
    "path = \"data/meteo\"\n",
    "\n",
    "files = os.listdir(path)\n",
    "\n",
    "temperatures = list()\n",
    "\n",
    "for file in files:\n",
    "    if \".zip\" in file:\n",
    "        continue\n",
    "    else:\n",
    "        # print(file)\n",
    "\n",
    "        # Read file as text and print content\n",
    "        with open(file=os.path.join(path, file)) as fh:\n",
    "            file_content = fh.readlines()\n",
    "\n",
    "        temp = file_content[4].split()[2]\n",
    "        temperatures.append(temp)\n",
    "\n",
    "print(temperatures)"
   ]
  },
  {
   "cell_type": "code",
   "execution_count": null,
   "id": "e3530fe8",
   "metadata": {},
   "outputs": [
    {
     "name": "stdout",
     "output_type": "stream",
     "text": [
      "['202310190000', '202310190520', '202310190530', '202310190540', '202310190600', '202310190610', '202310190630', '202310190640', '202310190650', '202310190700', '202401111520', '202401111530', '202401111540']\n",
      "['005.1', '/', '007.3', '007.0', '007.8', '008.6', '008.0', '008.1', '008.5', '008.6', '/', '/', '/']\n"
     ]
    }
   ],
   "source": [
    "import os\n",
    "path = \"data/meteo\"\n",
    "\n",
    "datetimes = list()\n",
    "temperatures = list()\n",
    "\n",
    "# list all files in path\n",
    "files = os.listdir(path)\n",
    "\n",
    "for file in files:\n",
    "    if \".zip\" in file:\n",
    "        continue\n",
    "    else:\n",
    "        # datetime = file.split(sep=\".\")[1]\n",
    "        datetime = file.replace(\"VRXA00.\", \"\")\n",
    "        datetimes.append(datetime)\n",
    "\n",
    "        # Read file as text and print content\n",
    "        with open(file=os.path.join(path, file)) as fh:\n",
    "            file_content = fh.readlines()\n",
    "\n",
    "        temperature = file_content[4].split()[2]\n",
    "        temperatures.append(temperature)\n",
    "\n",
    "print(datetimes)\n",
    "print(temperatures)"
   ]
  },
  {
   "cell_type": "code",
   "execution_count": null,
   "id": "9102c775",
   "metadata": {},
   "outputs": [
    {
     "data": {
      "text/plain": [
       "'007.3007.3'"
      ]
     },
     "execution_count": 86,
     "metadata": {},
     "output_type": "execute_result"
    }
   ],
   "source": [
    "value + value"
   ]
  },
  {
   "cell_type": "code",
   "execution_count": null,
   "id": "8cc099f2",
   "metadata": {},
   "outputs": [
    {
     "data": {
      "text/plain": [
       "'007.3007.3'"
      ]
     },
     "execution_count": 87,
     "metadata": {},
     "output_type": "execute_result"
    }
   ],
   "source": [
    "value * 2"
   ]
  },
  {
   "cell_type": "code",
   "execution_count": 7,
   "id": "3a1fa9cf",
   "metadata": {},
   "outputs": [
    {
     "name": "stdout",
     "output_type": "stream",
     "text": [
      "['202310190000', '202310190520', '202310190530', '202310190540', '202310190600', '202310190610', '202310190630', '202310190640', '202310190650', '202310190700', '202401111520', '202401111530', '202401111540']\n",
      "[5.1, None, 7.3, 7.0, 7.8, 8.6, 8.0, 8.1, 8.5, 8.6, None, None, None]\n"
     ]
    }
   ],
   "source": [
    "import os\n",
    "path = \"data/meteo\"\n",
    "\n",
    "datetimes = list()\n",
    "temperatures = list()\n",
    "\n",
    "# list all files in path\n",
    "files = os.listdir(path)\n",
    "\n",
    "for file in files:\n",
    "    if \".zip\" in file:\n",
    "        continue\n",
    "    else:\n",
    "        # datetime = file.split(sep=\".\")[1]\n",
    "        datetime = file.replace(\"VRXA00.\", \"\")\n",
    "        datetimes.append(datetime)\n",
    "\n",
    "        # Read file as text and print content\n",
    "        with open(file=os.path.join(path, file)) as fh:\n",
    "            file_content = fh.readlines()\n",
    "\n",
    "        temperature = file_content[4].split()[2]\n",
    "        try:\n",
    "            temperature = float(temperature)\n",
    "        except:\n",
    "            temperature = None\n",
    "        temperatures.append(temperature)\n",
    "\n",
    "print(datetimes)\n",
    "print(temperatures)"
   ]
  },
  {
   "cell_type": "code",
   "execution_count": 8,
   "id": "71d74c06",
   "metadata": {},
   "outputs": [
    {
     "name": "stdout",
     "output_type": "stream",
     "text": [
      "[datetime.datetime(2023, 10, 19, 0, 0, tzinfo=datetime.timezone.utc), datetime.datetime(2023, 10, 19, 5, 20, tzinfo=datetime.timezone.utc), datetime.datetime(2023, 10, 19, 5, 30, tzinfo=datetime.timezone.utc), datetime.datetime(2023, 10, 19, 5, 40, tzinfo=datetime.timezone.utc), datetime.datetime(2023, 10, 19, 6, 0, tzinfo=datetime.timezone.utc), datetime.datetime(2023, 10, 19, 6, 10, tzinfo=datetime.timezone.utc), datetime.datetime(2023, 10, 19, 6, 30, tzinfo=datetime.timezone.utc), datetime.datetime(2023, 10, 19, 6, 40, tzinfo=datetime.timezone.utc), datetime.datetime(2023, 10, 19, 6, 50, tzinfo=datetime.timezone.utc), datetime.datetime(2023, 10, 19, 7, 0, tzinfo=datetime.timezone.utc), datetime.datetime(2024, 1, 11, 15, 20, tzinfo=datetime.timezone.utc), datetime.datetime(2024, 1, 11, 15, 30, tzinfo=datetime.timezone.utc), datetime.datetime(2024, 1, 11, 15, 40, tzinfo=datetime.timezone.utc)]\n"
     ]
    }
   ],
   "source": [
    "from datetime import datetime, timezone\n",
    "\n",
    "datetimes_utc = [\n",
    "    datetime.strptime(ds, \"%Y%m%d%H%M\").replace(tzinfo=timezone.utc)\n",
    "    for ds in datetimes\n",
    "]\n",
    "print(datetimes_utc)"
   ]
  },
  {
   "cell_type": "code",
   "execution_count": 9,
   "id": "8b07dc8d",
   "metadata": {},
   "outputs": [
    {
     "data": {
      "text/html": [
       "<div><style>\n",
       ".dataframe > thead > tr,\n",
       ".dataframe > tbody > tr {\n",
       "  text-align: right;\n",
       "  white-space: pre-wrap;\n",
       "}\n",
       "</style>\n",
       "<small>shape: (13, 2)</small><table border=\"1\" class=\"dataframe\"><thead><tr><th>dtm</th><th>T</th></tr><tr><td>datetime[μs, UTC]</td><td>f64</td></tr></thead><tbody><tr><td>2023-10-19 00:00:00 UTC</td><td>5.1</td></tr><tr><td>2023-10-19 05:20:00 UTC</td><td>null</td></tr><tr><td>2023-10-19 05:30:00 UTC</td><td>7.3</td></tr><tr><td>2023-10-19 05:40:00 UTC</td><td>7.0</td></tr><tr><td>2023-10-19 06:00:00 UTC</td><td>7.8</td></tr><tr><td>&hellip;</td><td>&hellip;</td></tr><tr><td>2023-10-19 06:50:00 UTC</td><td>8.5</td></tr><tr><td>2023-10-19 07:00:00 UTC</td><td>8.6</td></tr><tr><td>2024-01-11 15:20:00 UTC</td><td>null</td></tr><tr><td>2024-01-11 15:30:00 UTC</td><td>null</td></tr><tr><td>2024-01-11 15:40:00 UTC</td><td>null</td></tr></tbody></table></div>"
      ],
      "text/plain": [
       "shape: (13, 2)\n",
       "┌─────────────────────────┬──────┐\n",
       "│ dtm                     ┆ T    │\n",
       "│ ---                     ┆ ---  │\n",
       "│ datetime[μs, UTC]       ┆ f64  │\n",
       "╞═════════════════════════╪══════╡\n",
       "│ 2023-10-19 00:00:00 UTC ┆ 5.1  │\n",
       "│ 2023-10-19 05:20:00 UTC ┆ null │\n",
       "│ 2023-10-19 05:30:00 UTC ┆ 7.3  │\n",
       "│ 2023-10-19 05:40:00 UTC ┆ 7.0  │\n",
       "│ 2023-10-19 06:00:00 UTC ┆ 7.8  │\n",
       "│ …                       ┆ …    │\n",
       "│ 2023-10-19 06:50:00 UTC ┆ 8.5  │\n",
       "│ 2023-10-19 07:00:00 UTC ┆ 8.6  │\n",
       "│ 2024-01-11 15:20:00 UTC ┆ null │\n",
       "│ 2024-01-11 15:30:00 UTC ┆ null │\n",
       "│ 2024-01-11 15:40:00 UTC ┆ null │\n",
       "└─────────────────────────┴──────┘"
      ]
     },
     "execution_count": 9,
     "metadata": {},
     "output_type": "execute_result"
    }
   ],
   "source": [
    "import polars as pl\n",
    "df = pl.DataFrame(zip(datetimes_utc, temperatures))\n",
    "df.columns=[\"dtm\", \"T\"]\n",
    "df = df.sort(\"dtm\")\n",
    "df"
   ]
  },
  {
   "cell_type": "code",
   "execution_count": 13,
   "id": "ababad6a",
   "metadata": {},
   "outputs": [
    {
     "data": {
      "text/plain": [
       "<matplotlib.collections.PathCollection at 0x27b428bb4d0>"
      ]
     },
     "execution_count": 13,
     "metadata": {},
     "output_type": "execute_result"
    },
    {
     "data": {
      "image/png": "[encoded data removed]",
      "text/plain": [
       "<Figure size 640x480 with 1 Axes>"
      ]
     },
     "metadata": {},
     "output_type": "display_data"
    }
   ],
   "source": [
    "import matplotlib.pyplot as plt\n",
    "plt.scatter(df[\"dtm\"], df[\"T\"])"
   ]
  },
  {
   "cell_type": "code",
   "execution_count": 16,
   "id": "56053f3a",
   "metadata": {},
   "outputs": [
    {
     "data": {
      "text/plain": [
       "7.3"
      ]
     },
     "execution_count": 16,
     "metadata": {},
     "output_type": "execute_result"
    }
   ],
   "source": [
    "def sum(a: float, b: float) -> float:\n",
    "    return a + b\n",
    "c =sum(2.3, 5)\n",
    "c"
   ]
  }
 ],
 "metadata": {
  "kernelspec": {
   "display_name": ".venv",
   "language": "python",
   "name": "python3"
  },
  "language_info": {
   "codemirror_mode": {
    "name": "ipython",
    "version": 3
   },
   "file_extension": ".py",
   "mimetype": "text/x-python",
   "name": "python",
   "nbconvert_exporter": "python",
   "pygments_lexer": "ipython3",
   "version": "3.13.3"
  }
 },
 "nbformat": 4,
 "nbformat_minor": 5
}
