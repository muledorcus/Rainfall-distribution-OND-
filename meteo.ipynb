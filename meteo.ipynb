{
 "cells": [
  {
   "cell_type": "code",
   "execution_count": 20,
   "id": "3710501c",
   "metadata": {},
   "outputs": [
    {
     "name": "stderr",
     "output_type": "stream",
     "text": [
      "<>:2: SyntaxWarning: invalid escape sequence '\\m'\n",
      "<>:2: SyntaxWarning: invalid escape sequence '\\m'\n",
      "C:\\Users\\USER\\AppData\\Local\\Temp\\ipykernel_2500\\2656241723.py:2: SyntaxWarning: invalid escape sequence '\\m'\n",
      "  df = pl.read_csv(\"DATA\\meteo\\VRXA00.202310190530\")\n"
     ]
    }
   ],
   "source": [
    "import polars as pl\n",
    "df = pl.read_csv(\"DATA\\meteo\\VRXA00.202310190530\")"
   ]
  },
  {
   "cell_type": "code",
   "execution_count": 21,
   "id": "cbb10462",
   "metadata": {},
   "outputs": [
    {
     "name": "stdout",
     "output_type": "stream",
     "text": [
      "DATA\\meteo\\VRXA00.202310190530\n"
     ]
    },
    {
     "name": "stderr",
     "output_type": "stream",
     "text": [
      "<>:1: SyntaxWarning: invalid escape sequence '\\m'\n",
      "<>:1: SyntaxWarning: invalid escape sequence '\\m'\n",
      "C:\\Users\\USER\\AppData\\Local\\Temp\\ipykernel_2500\\1647807836.py:1: SyntaxWarning: invalid escape sequence '\\m'\n",
      "  File_path =(\"DATA\\meteo\\VRXA00.202310190530\")\n"
     ]
    }
   ],
   "source": [
    "File_path =(\"DATA\\meteo\\VRXA00.202310190530\") \n",
    "print(File_path)\n"
   ]
  },
  {
   "cell_type": "code",
   "execution_count": 33,
   "id": "6a0a96ab",
   "metadata": {},
   "outputs": [
    {
     "name": "stdout",
     "output_type": "stream",
     "text": [
      "['16082\\n', 'VRXA00 LSSW 190530\\n', '\\n', 'iii zzzztttt tre200s0 uor200s0 prestas0 fa1010z0 da1010z0 rre150z0 ta1200s0 ua1200s0 pa1stas0 fkl010z0 dkl010z0 ra1150z0 fkl010z1 gor000z0 ta2200s0 ua2200s0\\n', '187 202310190530 007.3 098.6 0662.9 003.4 329.6 00000.00 006.8 100.0 0662.7 003.9 008.6 00000.00 004.8 283.9 7.770 99.320\\n']\n"
     ]
    }
   ],
   "source": [
    "#Read file as text and print content \n",
    "with open(file=File_path, mode= \"r\") as fh:\n",
    "    file_content = fh.readlines()\n",
    "\n",
    "print(file_content)\n",
    "    "
   ]
  },
  {
   "cell_type": "code",
   "execution_count": 49,
   "id": "5caee2a2",
   "metadata": {},
   "outputs": [
    {
     "ename": "AttributeError",
     "evalue": "'list' object has no attribute 'split'",
     "output_type": "error",
     "traceback": [
      "\u001b[31m---------------------------------------------------------------------------\u001b[39m",
      "\u001b[31mAttributeError\u001b[39m                            Traceback (most recent call last)",
      "\u001b[36mCell\u001b[39m\u001b[36m \u001b[39m\u001b[32mIn[49]\u001b[39m\u001b[32m, line 5\u001b[39m\n\u001b[32m      2\u001b[39m headers=header.split()\n\u001b[32m      4\u001b[39m data_line=file_content[\u001b[32m2\u001b[39m].strip()\n\u001b[32m----> \u001b[39m\u001b[32m5\u001b[39m data_value=\u001b[43mfile_content\u001b[49m\u001b[43m.\u001b[49m\u001b[43msplit\u001b[49m()\n\u001b[32m      6\u001b[39m df=pd.DataFrame([data_value],columns=headers)\n\u001b[32m      7\u001b[39m \u001b[38;5;28mprint\u001b[39m(df)\n",
      "\u001b[31mAttributeError\u001b[39m: 'list' object has no attribute 'split'"
     ]
    }
   ],
   "source": [
    "header = file_content[3].strip()\n",
    "headers=header.split()\n",
    "\n",
    "data_line=file_content[2].strip()\n",
    "data_value=file_content.split()\n",
    "df=pd.DataFrame([data_value],columns=headers)\n",
    "print(df)"
   ]
  },
  {
   "cell_type": "code",
   "execution_count": 41,
   "id": "059875f4",
   "metadata": {},
   "outputs": [
    {
     "name": "stdout",
     "output_type": "stream",
     "text": [
      "iii zzzztttt tre200s0 uor200s0 prestas0 fa1010z0 da1010z0 rre150z0 ta1200s0 ua1200s0 pa1stas0 fkl010z0 dkl010z0 ra1150z0 fkl010z1 gor000z0 ta2200s0 ua2200s0\n",
      "\n",
      "['iii', 'zzzztttt', 'tre200s0', 'uor200s0', 'prestas0', 'fa1010z0', 'da1010z0', 'rre150z0', 'ta1200s0', 'ua1200s0', 'pa1stas0', 'fkl010z0', 'dkl010z0', 'ra1150z0', 'fkl010z1', 'gor000z0', 'ta2200s0', 'ua2200s0']\n"
     ]
    }
   ],
   "source": [
    "header = file_content[3]\n",
    "print(header)\n",
    "\n",
    "header_list = header.split()\n",
    "print(header_list)"
   ]
  },
  {
   "cell_type": "code",
   "execution_count": 50,
   "id": "5f8107b6",
   "metadata": {},
   "outputs": [
    {
     "name": "stdout",
     "output_type": "stream",
     "text": [
      "tre200s0\n"
     ]
    }
   ],
   "source": [
    "temperature= header_list[2]\n",
    "print(temperature)"
   ]
  },
  {
   "cell_type": "code",
   "execution_count": 56,
   "id": "c1afa918",
   "metadata": {},
   "outputs": [
    {
     "name": "stdout",
     "output_type": "stream",
     "text": [
      "187 202310190530 007.3 098.6 0662.9 003.4 329.6 00000.00 006.8 100.0 0662.7 003.9 008.6 00000.00 004.8 283.9 7.770 99.320\n",
      "\n",
      "['187', '202310190530', '007.3', '098.6', '0662.9', '003.4', '329.6', '00000.00', '006.8', '100.0', '0662.7', '003.9', '008.6', '00000.00', '004.8', '283.9', '7.770', '99.320']\n",
      "7.3\n"
     ]
    }
   ],
   "source": [
    "Values = file_content[4]\n",
    "print(Values)\n",
    "Values = Values.split()\n",
    "print(Values)\n",
    "temperature_value=float(Values[2])\n",
    "print(temperature_value)"
   ]
  },
  {
   "cell_type": "code",
   "execution_count": 57,
   "id": "ac7ecc1e",
   "metadata": {},
   "outputs": [
    {
     "name": "stdout",
     "output_type": "stream",
     "text": [
      "tre200s0 7.3\n"
     ]
    }
   ],
   "source": [
    "print(temperature,temperature_value)"
   ]
  },
  {
   "cell_type": "code",
   "execution_count": null,
   "id": "35ac9476",
   "metadata": {},
   "outputs": [
    {
     "name": "stdout",
     "output_type": "stream",
     "text": [
      "tre200s0\n"
     ]
    }
   ],
   "source": [
    "header_list[2].split()\n",
    "data_values=\n"
   ]
  },
  {
   "cell_type": "code",
   "execution_count": 40,
   "id": "6f7cf739",
   "metadata": {},
   "outputs": [
    {
     "name": "stdout",
     "output_type": "stream",
     "text": [
      "listof header elements: tre200s0\n"
     ]
    }
   ],
   "source": [
    "header_list = header.split()[2]\n",
    "print(\"listof header elements:\", header_list)\n"
   ]
  },
  {
   "cell_type": "code",
   "execution_count": null,
   "id": "a7e97917",
   "metadata": {},
   "outputs": [],
   "source": [
    "with open"
   ]
  },
  {
   "cell_type": "code",
   "execution_count": null,
   "id": "b86dd0a3",
   "metadata": {},
   "outputs": [],
   "source": [
    "# Read file as text and print content\n",
    "with open(file=file_path, mode='r' )as fh:\n",
    "    \n",
    "info = fh.readlines"
   ]
  }
 ],
 "metadata": {
  "kernelspec": {
   "display_name": ".venv",
   "language": "python",
   "name": "python3"
  },
  "language_info": {
   "codemirror_mode": {
    "name": "ipython",
    "version": 3
   },
   "file_extension": ".py",
   "mimetype": "text/x-python",
   "name": "python",
   "nbconvert_exporter": "python",
   "pygments_lexer": "ipython3",
   "version": "3.13.3"
  }
 },
 "nbformat": 4,
 "nbformat_minor": 5
}
