{
 "cells": [
  {
   "cell_type": "code",
   "execution_count": 20,
   "id": "3710501c",
   "metadata": {},
   "outputs": [
    {
     "name": "stderr",
     "output_type": "stream",
     "text": [
      "<>:2: SyntaxWarning: invalid escape sequence '\\m'\n",
      "<>:2: SyntaxWarning: invalid escape sequence '\\m'\n",
      "C:\\Users\\USER\\AppData\\Local\\Temp\\ipykernel_2500\\2656241723.py:2: SyntaxWarning: invalid escape sequence '\\m'\n",
      "  df = pl.read_csv(\"DATA\\meteo\\VRXA00.202310190530\")\n"
     ]
    }
   ],
   "source": [
    "import polars as pl\n",
    "df = pl.read_csv(\"DATA\\meteo\\VRXA00.202310190530\")"
   ]
  },
  {
   "cell_type": "code",
   "execution_count": 21,
   "id": "cbb10462",
   "metadata": {},
   "outputs": [
    {
     "name": "stdout",
     "output_type": "stream",
     "text": [
      "DATA\\meteo\\VRXA00.202310190530\n"
     ]
    },
    {
     "name": "stderr",
     "output_type": "stream",
     "text": [
      "<>:1: SyntaxWarning: invalid escape sequence '\\m'\n",
      "<>:1: SyntaxWarning: invalid escape sequence '\\m'\n",
      "C:\\Users\\USER\\AppData\\Local\\Temp\\ipykernel_2500\\1647807836.py:1: SyntaxWarning: invalid escape sequence '\\m'\n",
      "  File_path =(\"DATA\\meteo\\VRXA00.202310190530\")\n"
     ]
    }
   ],
   "source": [
    "File_path =(\"DATA\\meteo\\VRXA00.202310190530\") \n",
    "print(File_path)\n"
   ]
  },
  {
   "cell_type": "code",
   "execution_count": 33,
   "id": "6a0a96ab",
   "metadata": {},
   "outputs": [
    {
     "name": "stdout",
     "output_type": "stream",
     "text": [
      "['16082\\n', 'VRXA00 LSSW 190530\\n', '\\n', 'iii zzzztttt tre200s0 uor200s0 prestas0 fa1010z0 da1010z0 rre150z0 ta1200s0 ua1200s0 pa1stas0 fkl010z0 dkl010z0 ra1150z0 fkl010z1 gor000z0 ta2200s0 ua2200s0\\n', '187 202310190530 007.3 098.6 0662.9 003.4 329.6 00000.00 006.8 100.0 0662.7 003.9 008.6 00000.00 004.8 283.9 7.770 99.320\\n']\n"
     ]
    }
   ],
   "source": [
    "#Read file as text and print content \n",
    "with open(file=File_path, mode= \"r\") as fh:\n",
    "    file_content = fh.readlines()\n",
    "\n",
    "print(file_content)\n",
    "    "
   ]
  },
  {
   "cell_type": "code",
   "execution_count": 49,
   "id": "5caee2a2",
   "metadata": {},
   "outputs": [
    {
     "ename": "AttributeError",
     "evalue": "'list' object has no attribute 'split'",
     "output_type": "error",
     "traceback": [
      "\u001b[31m---------------------------------------------------------------------------\u001b[39m",
      "\u001b[31mAttributeError\u001b[39m                            Traceback (most recent call last)",
      "\u001b[36mCell\u001b[39m\u001b[36m \u001b[39m\u001b[32mIn[49]\u001b[39m\u001b[32m, line 5\u001b[39m\n\u001b[32m      2\u001b[39m headers=header.split()\n\u001b[32m      4\u001b[39m data_line=file_content[\u001b[32m2\u001b[39m].strip()\n\u001b[32m----> \u001b[39m\u001b[32m5\u001b[39m data_value=\u001b[43mfile_content\u001b[49m\u001b[43m.\u001b[49m\u001b[43msplit\u001b[49m()\n\u001b[32m      6\u001b[39m df=pd.DataFrame([data_value],columns=headers)\n\u001b[32m      7\u001b[39m \u001b[38;5;28mprint\u001b[39m(df)\n",
      "\u001b[31mAttributeError\u001b[39m: 'list' object has no attribute 'split'"
     ]
    }
   ],
   "source": [
    "header = file_content[3].strip()\n",
    "headers=header.split()\n",
    "\n",
    "data_line=file_content[2].strip()\n",
    "data_value=file_content.split()\n",
    "df=pd.DataFrame([data_value],columns=headers)\n",
    "print(df)"
   ]
  },
  {
   "cell_type": "code",
   "execution_count": 41,
   "id": "059875f4",
   "metadata": {},
   "outputs": [
    {
     "name": "stdout",
     "output_type": "stream",
     "text": [
      "iii zzzztttt tre200s0 uor200s0 prestas0 fa1010z0 da1010z0 rre150z0 ta1200s0 ua1200s0 pa1stas0 fkl010z0 dkl010z0 ra1150z0 fkl010z1 gor000z0 ta2200s0 ua2200s0\n",
      "\n",
      "['iii', 'zzzztttt', 'tre200s0', 'uor200s0', 'prestas0', 'fa1010z0', 'da1010z0', 'rre150z0', 'ta1200s0', 'ua1200s0', 'pa1stas0', 'fkl010z0', 'dkl010z0', 'ra1150z0', 'fkl010z1', 'gor000z0', 'ta2200s0', 'ua2200s0']\n"
     ]
    }
   ],
   "source": [
    "header = file_content[3]\n",
    "print(header)\n",
    "\n",
    "header_list = header.split()\n",
    "print(header_list)"
   ]
  },
  {
   "cell_type": "code",
   "execution_count": 50,
   "id": "5f8107b6",
   "metadata": {},
   "outputs": [
    {
     "name": "stdout",
     "output_type": "stream",
     "text": [
      "tre200s0\n"
     ]
    }
   ],
   "source": [
    "temperature= header_list[2]\n",
    "print(temperature)"
   ]
  },
  {
   "cell_type": "code",
   "execution_count": 56,
   "id": "c1afa918",
   "metadata": {},
   "outputs": [
    {
     "name": "stdout",
     "output_type": "stream",
     "text": [
      "187 202310190530 007.3 098.6 0662.9 003.4 329.6 00000.00 006.8 100.0 0662.7 003.9 008.6 00000.00 004.8 283.9 7.770 99.320\n",
      "\n",
      "['187', '202310190530', '007.3', '098.6', '0662.9', '003.4', '329.6', '00000.00', '006.8', '100.0', '0662.7', '003.9', '008.6', '00000.00', '004.8', '283.9', '7.770', '99.320']\n",
      "7.3\n"
     ]
    }
   ],
   "source": [
    "Values = file_content[4]\n",
    "print(Values)\n",
    "Values = Values.split()\n",
    "print(Values)\n",
    "temperature_value=float(Values[2])\n",
    "print(temperature_value)"
   ]
  },
  {
   "cell_type": "code",
   "execution_count": 57,
   "id": "ac7ecc1e",
   "metadata": {},
   "outputs": [
    {
     "name": "stdout",
     "output_type": "stream",
     "text": [
      "tre200s0 7.3\n"
     ]
    }
   ],
   "source": [
    "print(temperature,temperature_value)"
   ]
  },
  {
   "cell_type": "code",
   "execution_count": 60,
   "id": "4bb7b1f2",
   "metadata": {},
   "outputs": [
    {
     "name": "stdout",
     "output_type": "stream",
     "text": [
      "1 : 1\n",
      "1 : 2\n",
      "1 : 4\n",
      "1 : 7\n",
      "1 : 11\n",
      "1 : 16\n"
     ]
    }
   ],
   "source": [
    "a = 1\n",
    "for i in range(10):\n",
    "    # a+= 1\n",
    "    a = a + i\n",
    "    if a > 20:\n",
    "        break\n",
    "    print(1, \":\", a)"
   ]
  },
  {
   "cell_type": "code",
   "execution_count": 62,
   "id": "8765ae7d",
   "metadata": {},
   "outputs": [
    {
     "name": "stdout",
     "output_type": "stream",
     "text": [
      "['VRXA00.202310190000', 'VRXA00.202310190520', 'VRXA00.202310190530', 'VRXA00.202310190540', 'VRXA00.202310190550.zip', 'VRXA00.202310190600', 'VRXA00.202310190610', 'VRXA00.202310190620.zip', 'VRXA00.202310190630', 'VRXA00.202310190640', 'VRXA00.202310190650', 'VRXA00.202310190700', 'VRXA00.202401111520', 'VRXA00.202401111530', 'VRXA00.202401111540']\n"
     ]
    }
   ],
   "source": [
    "import os\n",
    "path = \"DATA/meteo\"\n",
    "files = os .listdir(path)\n",
    "print(files)\n"
   ]
  },
  {
   "cell_type": "code",
   "execution_count": 71,
   "id": "090ab9ec",
   "metadata": {},
   "outputs": [
    {
     "name": "stdout",
     "output_type": "stream",
     "text": [
      "Last datetime: 202401111540\n",
      "Last temperature: /\n"
     ]
    }
   ],
   "source": [
    "import os\n",
    "\n",
    "path = \"DATA/meteo\"  # Make sure to set your correct path\n",
    "datetimes = []\n",
    "temperatures = []\n",
    "\n",
    "files = os.listdir(path)  # Fix: you were missing this line\n",
    "\n",
    "for file in files:\n",
    "    if \".zip\" in file:\n",
    "        continue\n",
    "    else:\n",
    "        # Extract datetime from filename\n",
    "        datetime = file.replace(\"VRXA00.\", \"\")\n",
    "        datetimes.append(datetime)\n",
    "\n",
    "        # Read file content\n",
    "        with open(os.path.join(path, file), 'r') as fh:\n",
    "            file_content = fh.readlines()\n",
    "            # Ensure file has enough lines and split line safely\n",
    "            if len(file_content) > 4:\n",
    "                line = file_content[4].split()\n",
    "                if len(line) > 2:\n",
    "                    temp = line[2]\n",
    "                    temperatures.append(temp)\n",
    "\n",
    "# Print results\n",
    "print(\"Last datetime:\", datetimes[-1] if datetimes else \"No datetime\")\n",
    "print(\"Last temperature:\", temperatures[-1] if temperatures else \"No temperature\")\n",
    "\n",
    "                        "
   ]
  },
  {
   "cell_type": "code",
   "execution_count": 64,
   "id": "5060ad2e",
   "metadata": {},
   "outputs": [],
   "source": [
    "for file in files:\n",
    "    if  \".zip\":\n",
    "        continue\n",
    "    else:(file)"
   ]
  },
  {
   "cell_type": "code",
   "execution_count": 59,
   "id": "fdbd09a5",
   "metadata": {},
   "outputs": [
    {
     "name": "stdout",
     "output_type": "stream",
     "text": [
      "9 : 55\n"
     ]
    }
   ],
   "source": [
    "a = a + i\n",
    "print(i, \":\", a)"
   ]
  },
  {
   "cell_type": "code",
   "execution_count": null,
   "id": "35ac9476",
   "metadata": {},
   "outputs": [
    {
     "name": "stdout",
     "output_type": "stream",
     "text": [
      "tre200s0\n"
     ]
    }
   ],
   "source": [
    "header_list[2].split()\n",
    "data_values=\n"
   ]
  },
  {
   "cell_type": "code",
   "execution_count": 40,
   "id": "6f7cf739",
   "metadata": {},
   "outputs": [
    {
     "name": "stdout",
     "output_type": "stream",
     "text": [
      "listof header elements: tre200s0\n"
     ]
    }
   ],
   "source": [
    "header_list = header.split()[2]\n",
    "print(\"listof header elements:\", header_list)\n"
   ]
  },
  {
   "cell_type": "code",
   "execution_count": null,
   "id": "a7e97917",
   "metadata": {},
   "outputs": [],
   "source": [
    "with open"
   ]
  },
  {
   "cell_type": "code",
   "execution_count": null,
   "id": "b86dd0a3",
   "metadata": {},
   "outputs": [],
   "source": [
    "# Read file as text and print content\n",
    "with open(file=file_path, mode='r' )as fh:\n",
    "    \n",
    "info = fh.readlines"
   ]
  },
  {
   "cell_type": "code",
   "execution_count": 72,
   "id": "1a9a2e9d",
   "metadata": {},
   "outputs": [
    {
     "name": "stdout",
     "output_type": "stream",
     "text": [
      "data/meteo/VRXA00.202310190530\n"
     ]
    }
   ],
   "source": [
    "file_path = \"data/meteo/VRXA00.202310190530\"\n",
    "print(file_path)"
   ]
  },
  {
   "cell_type": "code",
   "execution_count": 73,
   "id": "326922e3",
   "metadata": {},
   "outputs": [
    {
     "name": "stdout",
     "output_type": "stream",
     "text": [
      "['16082\\n', 'VRXA00 LSSW 190530\\n', '\\n', 'iii zzzztttt tre200s0 uor200s0 prestas0 fa1010z0 da1010z0 rre150z0 ta1200s0 ua1200s0 pa1stas0 fkl010z0 dkl010z0 ra1150z0 fkl010z1 gor000z0 ta2200s0 ua2200s0\\n', '187 202310190530 007.3 098.6 0662.9 003.4 329.6 00000.00 006.8 100.0 0662.7 003.9 008.6 00000.00 004.8 283.9 7.770 99.320\\n']\n"
     ]
    }
   ],
   "source": [
    "# Read file as text and print content\n",
    "with open(file=file_path) as fh:\n",
    "    file_content = fh.readlines()\n",
    "\n",
    "print(file_content)"
   ]
  },
  {
   "cell_type": "code",
   "execution_count": 74,
   "id": "7c280ae6",
   "metadata": {},
   "outputs": [
    {
     "name": "stdout",
     "output_type": "stream",
     "text": [
      "iii zzzztttt tre200s0 uor200s0 prestas0 fa1010z0 da1010z0 rre150z0 ta1200s0 ua1200s0 pa1stas0 fkl010z0 dkl010z0 ra1150z0 fkl010z1 gor000z0 ta2200s0 ua2200s0\n",
      "\n"
     ]
    }
   ],
   "source": [
    "header = file_content[3]\n",
    "print(header)"
   ]
  },
  {
   "cell_type": "code",
   "execution_count": 75,
   "id": "a7f882a4",
   "metadata": {},
   "outputs": [
    {
     "name": "stdout",
     "output_type": "stream",
     "text": [
      "list of header elements: ['iii', 'zzzztttt', 'tre200s0', 'uor200s0', 'prestas0', 'fa1010z0', 'da1010z0', 'rre150z0', 'ta1200s0', 'ua1200s0', 'pa1stas0', 'fkl010z0', 'dkl010z0', 'ra1150z0', 'fkl010z1', 'gor000z0', 'ta2200s0', 'ua2200s0']\n"
     ]
    }
   ],
   "source": [
    "header_list = header.split()\n",
    "print(\"list of header elements:\", header_list)"
   ]
  },
  {
   "cell_type": "code",
   "execution_count": 76,
   "id": "4dcf4bb9",
   "metadata": {},
   "outputs": [
    {
     "name": "stdout",
     "output_type": "stream",
     "text": [
      "iii zzzztttt tre200s0 uor200s0 prestas0 fa1010z0 da1010z0 rre150z0 ta1200s0 ua1200s0 pa1stas0 fkl010z0 dkl010z0 ra1150z0 fkl010z1 gor000z0 ta2200s0 ua2200s0\n",
      "\n"
     ]
    }
   ],
   "source": [
    "headers=file_content[3]\n",
    "print(headers)"
   ]
  },
  {
   "cell_type": "code",
   "execution_count": 77,
   "id": "25add826",
   "metadata": {},
   "outputs": [
    {
     "name": "stdout",
     "output_type": "stream",
     "text": [
      "['187', '202310190530', '007.3', '098.6', '0662.9', '003.4', '329.6', '00000.00', '006.8', '100.0', '0662.7', '003.9', '008.6', '00000.00', '004.8', '283.9', '7.770', '99.320']\n"
     ]
    }
   ],
   "source": [
    "values=file_content[4].split()\n",
    "print(values)"
   ]
  },
  {
   "cell_type": "code",
   "execution_count": 78,
   "id": "405b5c54",
   "metadata": {},
   "outputs": [
    {
     "name": "stdout",
     "output_type": "stream",
     "text": [
      "temperature value: 007.3\n"
     ]
    }
   ],
   "source": [
    "temp=values[2]\n",
    "print(\"temperature value:\",temp)"
   ]
  },
  {
   "cell_type": "code",
   "execution_count": 79,
   "id": "22ea246b",
   "metadata": {},
   "outputs": [
    {
     "name": "stdout",
     "output_type": "stream",
     "text": [
      "value: 007.3\n",
      "type of value: <class 'str'>\n",
      "value as floating point number: 7.3\n",
      "type of the rounded value: <class 'int'>\n"
     ]
    }
   ],
   "source": [
    "value=file_content[4].split()[2]\n",
    "print(\"value:\", value)\n",
    "print(\"type of value:\", type(value))\n",
    "# print(int(value))\n",
    "print(\"value as floating point number:\", float(value))\n",
    "print(\"type of the rounded value:\", type(round(float(value))))"
   ]
  },
  {
   "cell_type": "code",
   "execution_count": 80,
   "id": "590556c7",
   "metadata": {},
   "outputs": [
    {
     "name": "stdout",
     "output_type": "stream",
     "text": [
      "0 : 1\n",
      "1 : 2\n",
      "2 : 4\n",
      "3 : 7\n",
      "4 : 11\n",
      "5 : 16\n",
      "6 : a is too big\n",
      "7 : a is too big\n",
      "8 : a is too big\n",
      "9 : a is too big\n"
     ]
    }
   ],
   "source": [
    "a = 1\n",
    "\n",
    "for i in range(10):\n",
    "    # a += 1\n",
    "    a = a + i\n",
    "    if a < 20:\n",
    "        print(i, \":\", a)\n",
    "    else:\n",
    "        print(i, \":\", \"a is too big\")"
   ]
  },
  {
   "cell_type": "code",
   "execution_count": 81,
   "id": "71c53ec4",
   "metadata": {},
   "outputs": [
    {
     "name": "stdout",
     "output_type": "stream",
     "text": [
      "VRXA00.202310190000\n",
      "VRXA00.202310190520\n",
      "VRXA00.202310190530\n",
      "VRXA00.202310190540\n",
      "VRXA00.202310190600\n",
      "VRXA00.202310190610\n",
      "VRXA00.202310190630\n",
      "VRXA00.202310190640\n",
      "VRXA00.202310190650\n",
      "VRXA00.202310190700\n",
      "VRXA00.202401111520\n",
      "VRXA00.202401111530\n",
      "VRXA00.202401111540\n"
     ]
    }
   ],
   "source": [
    "import os\n",
    "path = \"data/meteo\"\n",
    "\n",
    "files = os.listdir(path)\n",
    "\n",
    "for file in files:\n",
    "    if \".zip\" in file:\n",
    "        continue\n",
    "    else:\n",
    "        print(file)"
   ]
  },
  {
   "cell_type": "code",
   "execution_count": 82,
   "id": "9301e997",
   "metadata": {},
   "outputs": [
    {
     "name": "stdout",
     "output_type": "stream",
     "text": [
      "VRXA00.202310190000 temp= 005.1\n",
      "VRXA00.202310190520 temp= /\n",
      "VRXA00.202310190530 temp= 007.3\n",
      "VRXA00.202310190540 temp= 007.0\n",
      "VRXA00.202310190600 temp= 007.8\n",
      "VRXA00.202310190610 temp= 008.6\n",
      "VRXA00.202310190630 temp= 008.0\n",
      "VRXA00.202310190640 temp= 008.1\n",
      "VRXA00.202310190650 temp= 008.5\n",
      "VRXA00.202310190700 temp= 008.6\n",
      "VRXA00.202401111520 temp= /\n",
      "VRXA00.202401111530 temp= /\n",
      "VRXA00.202401111540 temp= /\n"
     ]
    }
   ],
   "source": [
    "import os\n",
    "path = \"data/meteo\"\n",
    "\n",
    "files = os.listdir(path)\n",
    "\n",
    "for file in files:\n",
    "    if \".zip\" in file:\n",
    "        continue\n",
    "    else:\n",
    "        # print(file)\n",
    "\n",
    "        # Read file as text and print content\n",
    "        with open(file=os.path.join(path, file)) as fh:\n",
    "            file_content = fh.readlines()\n",
    "\n",
    "        temp = file_content[4].split()[2]\n",
    "        print(file, \"temp=\", temp)"
   ]
  },
  {
   "cell_type": "code",
   "execution_count": 83,
   "id": "664e38ec",
   "metadata": {},
   "outputs": [
    {
     "name": "stdout",
     "output_type": "stream",
     "text": [
      "['005.1', '/', '007.3', '007.0', '007.8', '008.6', '008.0', '008.1', '008.5', '008.6', '/', '/', '/']\n"
     ]
    }
   ],
   "source": [
    "import os\n",
    "path = \"data/meteo\"\n",
    "\n",
    "files = os.listdir(path)\n",
    "\n",
    "temperatures = list()\n",
    "\n",
    "for file in files:\n",
    "    if \".zip\" in file:\n",
    "        continue\n",
    "    else:\n",
    "        # print(file)\n",
    "\n",
    "        # Read file as text and print content\n",
    "        with open(file=os.path.join(path, file)) as fh:\n",
    "            file_content = fh.readlines()\n",
    "\n",
    "        temp = file_content[4].split()[2]\n",
    "        temperatures.append(temp)\n",
    "\n",
    "print(temperatures)"
   ]
  },
  {
   "cell_type": "code",
   "execution_count": 84,
   "id": "e3530fe8",
   "metadata": {},
   "outputs": [
    {
     "name": "stdout",
     "output_type": "stream",
     "text": [
      "['202310190000', '202310190520', '202310190530', '202310190540', '202310190600', '202310190610', '202310190630', '202310190640', '202310190650', '202310190700', '202401111520', '202401111530', '202401111540']\n",
      "['005.1', '/', '007.3', '007.0', '007.8', '008.6', '008.0', '008.1', '008.5', '008.6', '/', '/', '/']\n"
     ]
    }
   ],
   "source": [
    "import os\n",
    "path = \"data/meteo\"\n",
    "\n",
    "datetimes = list()\n",
    "temperatures = list()\n",
    "\n",
    "# list all files in path\n",
    "files = os.listdir(path)\n",
    "\n",
    "for file in files:\n",
    "    if \".zip\" in file:\n",
    "        continue\n",
    "    else:\n",
    "        # datetime = file.split(sep=\".\")[1]\n",
    "        datetime = file.replace(\"VRXA00.\", \"\")\n",
    "        datetimes.append(datetime)\n",
    "\n",
    "        # Read file as text and print content\n",
    "        with open(file=os.path.join(path, file)) as fh:\n",
    "            file_content = fh.readlines()\n",
    "\n",
    "        temperature = file_content[4].split()[2]\n",
    "        temperatures.append(temperature)\n",
    "\n",
    "print(datetimes)\n",
    "print(temperatures)"
   ]
  },
  {
   "cell_type": "code",
   "execution_count": 85,
   "id": "b5b4dcca",
   "metadata": {},
   "outputs": [
    {
     "name": "stdout",
     "output_type": "stream",
     "text": [
      "['202310190000', '202310190520', '202310190530', '202310190540', '202310190600', '202310190610', '202310190630', '202310190640', '202310190650', '202310190700', '202401111520', '202401111530', '202401111540']\n",
      "[5.1, None, 7.3, 7.0, 7.8, 8.6, 8.0, 8.1, 8.5, 8.6, None, None, None]\n"
     ]
    }
   ],
   "source": [
    "import os\n",
    "path = \"data/meteo\"\n",
    "\n",
    "datetimes = list()\n",
    "temperatures = list()\n",
    "\n",
    "# list all files in path\n",
    "files = os.listdir(path)\n",
    "\n",
    "for file in files:\n",
    "    if \".zip\" in file:\n",
    "        continue\n",
    "    else:\n",
    "        # datetime = file.split(sep=\".\")[1]\n",
    "        datetime = file.replace(\"VRXA00.\", \"\")\n",
    "        datetimes.append(datetime)\n",
    "\n",
    "        # Read file as text and print content\n",
    "        with open(file=os.path.join(path, file)) as fh:\n",
    "            file_content = fh.readlines()\n",
    "\n",
    "        temperature = file_content[4].split()[2]\n",
    "        try:\n",
    "            temperature = float(temperature)\n",
    "        except:\n",
    "            temperature = None\n",
    "        temperatures.append(temperature)\n",
    "\n",
    "print(datetimes)\n",
    "print(temperatures)"
   ]
  },
  {
   "cell_type": "code",
   "execution_count": 86,
   "id": "9102c775",
   "metadata": {},
   "outputs": [
    {
     "data": {
      "text/plain": [
       "'007.3007.3'"
      ]
     },
     "execution_count": 86,
     "metadata": {},
     "output_type": "execute_result"
    }
   ],
   "source": [
    "value + value"
   ]
  },
  {
   "cell_type": "code",
   "execution_count": 87,
   "id": "8cc099f2",
   "metadata": {},
   "outputs": [
    {
     "data": {
      "text/plain": [
       "'007.3007.3'"
      ]
     },
     "execution_count": 87,
     "metadata": {},
     "output_type": "execute_result"
    }
   ],
   "source": [
    "value * 2"
   ]
  },
  {
   "cell_type": "code",
   "execution_count": null,
   "id": "387281c1",
   "metadata": {},
   "outputs": [
    {
     "ename": "FileNotFoundError",
     "evalue": "The system cannot find the file specified. (os error 2): DATA/RAINFALLDATA.csv",
     "output_type": "error",
     "traceback": [
      "\u001b[31m---------------------------------------------------------------------------\u001b[39m",
      "\u001b[31mFileNotFoundError\u001b[39m                         Traceback (most recent call last)",
      "\u001b[36mCell\u001b[39m\u001b[36m \u001b[39m\u001b[32mIn[89]\u001b[39m\u001b[32m, line 2\u001b[39m\n\u001b[32m      1\u001b[39m \u001b[38;5;28;01mimport\u001b[39;00m\u001b[38;5;250m \u001b[39m\u001b[34;01mpolars\u001b[39;00m\u001b[38;5;250m \u001b[39m\u001b[38;5;28;01mas\u001b[39;00m\u001b[38;5;250m \u001b[39m\u001b[34;01mpl\u001b[39;00m\n\u001b[32m----> \u001b[39m\u001b[32m2\u001b[39m df = \u001b[43mpl\u001b[49m\u001b[43m.\u001b[49m\u001b[43mread_csv\u001b[49m\u001b[43m(\u001b[49m\u001b[33;43m\"\u001b[39;49m\u001b[33;43mDATA/RAINFALLDATA.csv\u001b[39;49m\u001b[33;43m\"\u001b[39;49m\u001b[43m)\u001b[49m\n",
      "\u001b[36mFile \u001b[39m\u001b[32mc:\\Users\\USER\\Documents\\New folder\\Rainfall-distribution-OND-\\.venv\\Lib\\site-packages\\polars\\_utils\\deprecation.py:119\u001b[39m, in \u001b[36mdeprecate_renamed_parameter.<locals>.decorate.<locals>.wrapper\u001b[39m\u001b[34m(*args, **kwargs)\u001b[39m\n\u001b[32m    114\u001b[39m \u001b[38;5;129m@wraps\u001b[39m(function)\n\u001b[32m    115\u001b[39m \u001b[38;5;28;01mdef\u001b[39;00m\u001b[38;5;250m \u001b[39m\u001b[34mwrapper\u001b[39m(*args: P.args, **kwargs: P.kwargs) -> T:\n\u001b[32m    116\u001b[39m     _rename_keyword_argument(\n\u001b[32m    117\u001b[39m         old_name, new_name, kwargs, function.\u001b[34m__qualname__\u001b[39m, version\n\u001b[32m    118\u001b[39m     )\n\u001b[32m--> \u001b[39m\u001b[32m119\u001b[39m     \u001b[38;5;28;01mreturn\u001b[39;00m \u001b[43mfunction\u001b[49m\u001b[43m(\u001b[49m\u001b[43m*\u001b[49m\u001b[43margs\u001b[49m\u001b[43m,\u001b[49m\u001b[43m \u001b[49m\u001b[43m*\u001b[49m\u001b[43m*\u001b[49m\u001b[43mkwargs\u001b[49m\u001b[43m)\u001b[49m\n",
      "\u001b[36mFile \u001b[39m\u001b[32mc:\\Users\\USER\\Documents\\New folder\\Rainfall-distribution-OND-\\.venv\\Lib\\site-packages\\polars\\_utils\\deprecation.py:119\u001b[39m, in \u001b[36mdeprecate_renamed_parameter.<locals>.decorate.<locals>.wrapper\u001b[39m\u001b[34m(*args, **kwargs)\u001b[39m\n\u001b[32m    114\u001b[39m \u001b[38;5;129m@wraps\u001b[39m(function)\n\u001b[32m    115\u001b[39m \u001b[38;5;28;01mdef\u001b[39;00m\u001b[38;5;250m \u001b[39m\u001b[34mwrapper\u001b[39m(*args: P.args, **kwargs: P.kwargs) -> T:\n\u001b[32m    116\u001b[39m     _rename_keyword_argument(\n\u001b[32m    117\u001b[39m         old_name, new_name, kwargs, function.\u001b[34m__qualname__\u001b[39m, version\n\u001b[32m    118\u001b[39m     )\n\u001b[32m--> \u001b[39m\u001b[32m119\u001b[39m     \u001b[38;5;28;01mreturn\u001b[39;00m \u001b[43mfunction\u001b[49m\u001b[43m(\u001b[49m\u001b[43m*\u001b[49m\u001b[43margs\u001b[49m\u001b[43m,\u001b[49m\u001b[43m \u001b[49m\u001b[43m*\u001b[49m\u001b[43m*\u001b[49m\u001b[43mkwargs\u001b[49m\u001b[43m)\u001b[49m\n",
      "\u001b[36mFile \u001b[39m\u001b[32mc:\\Users\\USER\\Documents\\New folder\\Rainfall-distribution-OND-\\.venv\\Lib\\site-packages\\polars\\_utils\\deprecation.py:119\u001b[39m, in \u001b[36mdeprecate_renamed_parameter.<locals>.decorate.<locals>.wrapper\u001b[39m\u001b[34m(*args, **kwargs)\u001b[39m\n\u001b[32m    114\u001b[39m \u001b[38;5;129m@wraps\u001b[39m(function)\n\u001b[32m    115\u001b[39m \u001b[38;5;28;01mdef\u001b[39;00m\u001b[38;5;250m \u001b[39m\u001b[34mwrapper\u001b[39m(*args: P.args, **kwargs: P.kwargs) -> T:\n\u001b[32m    116\u001b[39m     _rename_keyword_argument(\n\u001b[32m    117\u001b[39m         old_name, new_name, kwargs, function.\u001b[34m__qualname__\u001b[39m, version\n\u001b[32m    118\u001b[39m     )\n\u001b[32m--> \u001b[39m\u001b[32m119\u001b[39m     \u001b[38;5;28;01mreturn\u001b[39;00m \u001b[43mfunction\u001b[49m\u001b[43m(\u001b[49m\u001b[43m*\u001b[49m\u001b[43margs\u001b[49m\u001b[43m,\u001b[49m\u001b[43m \u001b[49m\u001b[43m*\u001b[49m\u001b[43m*\u001b[49m\u001b[43mkwargs\u001b[49m\u001b[43m)\u001b[49m\n",
      "\u001b[36mFile \u001b[39m\u001b[32mc:\\Users\\USER\\Documents\\New folder\\Rainfall-distribution-OND-\\.venv\\Lib\\site-packages\\polars\\io\\csv\\functions.py:540\u001b[39m, in \u001b[36mread_csv\u001b[39m\u001b[34m(source, has_header, columns, new_columns, separator, comment_prefix, quote_char, skip_rows, skip_lines, schema, schema_overrides, null_values, missing_utf8_is_empty_string, ignore_errors, try_parse_dates, n_threads, infer_schema, infer_schema_length, batch_size, n_rows, encoding, low_memory, rechunk, use_pyarrow, storage_options, skip_rows_after_header, row_index_name, row_index_offset, sample_size, eol_char, raise_if_empty, truncate_ragged_lines, decimal_comma, glob)\u001b[39m\n\u001b[32m    532\u001b[39m \u001b[38;5;28;01melse\u001b[39;00m:\n\u001b[32m    533\u001b[39m     \u001b[38;5;28;01mwith\u001b[39;00m prepare_file_arg(\n\u001b[32m    534\u001b[39m         source,\n\u001b[32m    535\u001b[39m         encoding=encoding,\n\u001b[32m   (...)\u001b[39m\u001b[32m    538\u001b[39m         storage_options=storage_options,\n\u001b[32m    539\u001b[39m     ) \u001b[38;5;28;01mas\u001b[39;00m data:\n\u001b[32m--> \u001b[39m\u001b[32m540\u001b[39m         df = \u001b[43m_read_csv_impl\u001b[49m\u001b[43m(\u001b[49m\n\u001b[32m    541\u001b[39m \u001b[43m            \u001b[49m\u001b[43mdata\u001b[49m\u001b[43m,\u001b[49m\n\u001b[32m    542\u001b[39m \u001b[43m            \u001b[49m\u001b[43mhas_header\u001b[49m\u001b[43m=\u001b[49m\u001b[43mhas_header\u001b[49m\u001b[43m,\u001b[49m\n\u001b[32m    543\u001b[39m \u001b[43m            \u001b[49m\u001b[43mcolumns\u001b[49m\u001b[43m=\u001b[49m\u001b[43mcolumns\u001b[49m\u001b[43m \u001b[49m\u001b[38;5;28;43;01mif\u001b[39;49;00m\u001b[43m \u001b[49m\u001b[43mcolumns\u001b[49m\u001b[43m \u001b[49m\u001b[38;5;28;43;01melse\u001b[39;49;00m\u001b[43m \u001b[49m\u001b[43mprojection\u001b[49m\u001b[43m,\u001b[49m\n\u001b[32m    544\u001b[39m \u001b[43m            \u001b[49m\u001b[43mseparator\u001b[49m\u001b[43m=\u001b[49m\u001b[43mseparator\u001b[49m\u001b[43m,\u001b[49m\n\u001b[32m    545\u001b[39m \u001b[43m            \u001b[49m\u001b[43mcomment_prefix\u001b[49m\u001b[43m=\u001b[49m\u001b[43mcomment_prefix\u001b[49m\u001b[43m,\u001b[49m\n\u001b[32m    546\u001b[39m \u001b[43m            \u001b[49m\u001b[43mquote_char\u001b[49m\u001b[43m=\u001b[49m\u001b[43mquote_char\u001b[49m\u001b[43m,\u001b[49m\n\u001b[32m    547\u001b[39m \u001b[43m            \u001b[49m\u001b[43mskip_rows\u001b[49m\u001b[43m=\u001b[49m\u001b[43mskip_rows\u001b[49m\u001b[43m,\u001b[49m\n\u001b[32m    548\u001b[39m \u001b[43m            \u001b[49m\u001b[43mskip_lines\u001b[49m\u001b[43m=\u001b[49m\u001b[43mskip_lines\u001b[49m\u001b[43m,\u001b[49m\n\u001b[32m    549\u001b[39m \u001b[43m            \u001b[49m\u001b[43mschema_overrides\u001b[49m\u001b[43m=\u001b[49m\u001b[43mschema_overrides\u001b[49m\u001b[43m,\u001b[49m\n\u001b[32m    550\u001b[39m \u001b[43m            \u001b[49m\u001b[43mschema\u001b[49m\u001b[43m=\u001b[49m\u001b[43mschema\u001b[49m\u001b[43m,\u001b[49m\n\u001b[32m    551\u001b[39m \u001b[43m            \u001b[49m\u001b[43mnull_values\u001b[49m\u001b[43m=\u001b[49m\u001b[43mnull_values\u001b[49m\u001b[43m,\u001b[49m\n\u001b[32m    552\u001b[39m \u001b[43m            \u001b[49m\u001b[43mmissing_utf8_is_empty_string\u001b[49m\u001b[43m=\u001b[49m\u001b[43mmissing_utf8_is_empty_string\u001b[49m\u001b[43m,\u001b[49m\n\u001b[32m    553\u001b[39m \u001b[43m            \u001b[49m\u001b[43mignore_errors\u001b[49m\u001b[43m=\u001b[49m\u001b[43mignore_errors\u001b[49m\u001b[43m,\u001b[49m\n\u001b[32m    554\u001b[39m \u001b[43m            \u001b[49m\u001b[43mtry_parse_dates\u001b[49m\u001b[43m=\u001b[49m\u001b[43mtry_parse_dates\u001b[49m\u001b[43m,\u001b[49m\n\u001b[32m    555\u001b[39m \u001b[43m            \u001b[49m\u001b[43mn_threads\u001b[49m\u001b[43m=\u001b[49m\u001b[43mn_threads\u001b[49m\u001b[43m,\u001b[49m\n\u001b[32m    556\u001b[39m \u001b[43m            \u001b[49m\u001b[43minfer_schema_length\u001b[49m\u001b[43m=\u001b[49m\u001b[43minfer_schema_length\u001b[49m\u001b[43m,\u001b[49m\n\u001b[32m    557\u001b[39m \u001b[43m            \u001b[49m\u001b[43mbatch_size\u001b[49m\u001b[43m=\u001b[49m\u001b[43mbatch_size\u001b[49m\u001b[43m,\u001b[49m\n\u001b[32m    558\u001b[39m \u001b[43m            \u001b[49m\u001b[43mn_rows\u001b[49m\u001b[43m=\u001b[49m\u001b[43mn_rows\u001b[49m\u001b[43m,\u001b[49m\n\u001b[32m    559\u001b[39m \u001b[43m            \u001b[49m\u001b[43mencoding\u001b[49m\u001b[43m=\u001b[49m\u001b[43mencoding\u001b[49m\u001b[43m \u001b[49m\u001b[38;5;28;43;01mif\u001b[39;49;00m\u001b[43m \u001b[49m\u001b[43mencoding\u001b[49m\u001b[43m \u001b[49m\u001b[43m==\u001b[49m\u001b[43m \u001b[49m\u001b[33;43m\"\u001b[39;49m\u001b[33;43mutf8-lossy\u001b[39;49m\u001b[33;43m\"\u001b[39;49m\u001b[43m \u001b[49m\u001b[38;5;28;43;01melse\u001b[39;49;00m\u001b[43m \u001b[49m\u001b[33;43m\"\u001b[39;49m\u001b[33;43mutf8\u001b[39;49m\u001b[33;43m\"\u001b[39;49m\u001b[43m,\u001b[49m\n\u001b[32m    560\u001b[39m \u001b[43m            \u001b[49m\u001b[43mlow_memory\u001b[49m\u001b[43m=\u001b[49m\u001b[43mlow_memory\u001b[49m\u001b[43m,\u001b[49m\n\u001b[32m    561\u001b[39m \u001b[43m            \u001b[49m\u001b[43mrechunk\u001b[49m\u001b[43m=\u001b[49m\u001b[43mrechunk\u001b[49m\u001b[43m,\u001b[49m\n\u001b[32m    562\u001b[39m \u001b[43m            \u001b[49m\u001b[43mskip_rows_after_header\u001b[49m\u001b[43m=\u001b[49m\u001b[43mskip_rows_after_header\u001b[49m\u001b[43m,\u001b[49m\n\u001b[32m    563\u001b[39m \u001b[43m            \u001b[49m\u001b[43mrow_index_name\u001b[49m\u001b[43m=\u001b[49m\u001b[43mrow_index_name\u001b[49m\u001b[43m,\u001b[49m\n\u001b[32m    564\u001b[39m \u001b[43m            \u001b[49m\u001b[43mrow_index_offset\u001b[49m\u001b[43m=\u001b[49m\u001b[43mrow_index_offset\u001b[49m\u001b[43m,\u001b[49m\n\u001b[32m    565\u001b[39m \u001b[43m            \u001b[49m\u001b[43meol_char\u001b[49m\u001b[43m=\u001b[49m\u001b[43meol_char\u001b[49m\u001b[43m,\u001b[49m\n\u001b[32m    566\u001b[39m \u001b[43m            \u001b[49m\u001b[43mraise_if_empty\u001b[49m\u001b[43m=\u001b[49m\u001b[43mraise_if_empty\u001b[49m\u001b[43m,\u001b[49m\n\u001b[32m    567\u001b[39m \u001b[43m            \u001b[49m\u001b[43mtruncate_ragged_lines\u001b[49m\u001b[43m=\u001b[49m\u001b[43mtruncate_ragged_lines\u001b[49m\u001b[43m,\u001b[49m\n\u001b[32m    568\u001b[39m \u001b[43m            \u001b[49m\u001b[43mdecimal_comma\u001b[49m\u001b[43m=\u001b[49m\u001b[43mdecimal_comma\u001b[49m\u001b[43m,\u001b[49m\n\u001b[32m    569\u001b[39m \u001b[43m            \u001b[49m\u001b[43mglob\u001b[49m\u001b[43m=\u001b[49m\u001b[43mglob\u001b[49m\u001b[43m,\u001b[49m\n\u001b[32m    570\u001b[39m \u001b[43m        \u001b[49m\u001b[43m)\u001b[49m\n\u001b[32m    572\u001b[39m \u001b[38;5;28;01mif\u001b[39;00m new_columns:\n\u001b[32m    573\u001b[39m     \u001b[38;5;28;01mreturn\u001b[39;00m _update_columns(df, new_columns)\n",
      "\u001b[36mFile \u001b[39m\u001b[32mc:\\Users\\USER\\Documents\\New folder\\Rainfall-distribution-OND-\\.venv\\Lib\\site-packages\\polars\\io\\csv\\functions.py:688\u001b[39m, in \u001b[36m_read_csv_impl\u001b[39m\u001b[34m(source, has_header, columns, separator, comment_prefix, quote_char, skip_rows, skip_lines, schema, schema_overrides, null_values, missing_utf8_is_empty_string, ignore_errors, try_parse_dates, n_threads, infer_schema_length, batch_size, n_rows, encoding, low_memory, rechunk, skip_rows_after_header, row_index_name, row_index_offset, sample_size, eol_char, raise_if_empty, truncate_ragged_lines, decimal_comma, glob)\u001b[39m\n\u001b[32m    684\u001b[39m         \u001b[38;5;28;01mraise\u001b[39;00m \u001b[38;5;167;01mValueError\u001b[39;00m(msg)\n\u001b[32m    686\u001b[39m projection, columns = parse_columns_arg(columns)\n\u001b[32m--> \u001b[39m\u001b[32m688\u001b[39m pydf = \u001b[43mPyDataFrame\u001b[49m\u001b[43m.\u001b[49m\u001b[43mread_csv\u001b[49m\u001b[43m(\u001b[49m\n\u001b[32m    689\u001b[39m \u001b[43m    \u001b[49m\u001b[43msource\u001b[49m\u001b[43m,\u001b[49m\n\u001b[32m    690\u001b[39m \u001b[43m    \u001b[49m\u001b[43minfer_schema_length\u001b[49m\u001b[43m,\u001b[49m\n\u001b[32m    691\u001b[39m \u001b[43m    \u001b[49m\u001b[43mbatch_size\u001b[49m\u001b[43m,\u001b[49m\n\u001b[32m    692\u001b[39m \u001b[43m    \u001b[49m\u001b[43mhas_header\u001b[49m\u001b[43m,\u001b[49m\n\u001b[32m    693\u001b[39m \u001b[43m    \u001b[49m\u001b[43mignore_errors\u001b[49m\u001b[43m,\u001b[49m\n\u001b[32m    694\u001b[39m \u001b[43m    \u001b[49m\u001b[43mn_rows\u001b[49m\u001b[43m,\u001b[49m\n\u001b[32m    695\u001b[39m \u001b[43m    \u001b[49m\u001b[43mskip_rows\u001b[49m\u001b[43m,\u001b[49m\n\u001b[32m    696\u001b[39m \u001b[43m    \u001b[49m\u001b[43mskip_lines\u001b[49m\u001b[43m,\u001b[49m\n\u001b[32m    697\u001b[39m \u001b[43m    \u001b[49m\u001b[43mprojection\u001b[49m\u001b[43m,\u001b[49m\n\u001b[32m    698\u001b[39m \u001b[43m    \u001b[49m\u001b[43mseparator\u001b[49m\u001b[43m,\u001b[49m\n\u001b[32m    699\u001b[39m \u001b[43m    \u001b[49m\u001b[43mrechunk\u001b[49m\u001b[43m,\u001b[49m\n\u001b[32m    700\u001b[39m \u001b[43m    \u001b[49m\u001b[43mcolumns\u001b[49m\u001b[43m,\u001b[49m\n\u001b[32m    701\u001b[39m \u001b[43m    \u001b[49m\u001b[43mencoding\u001b[49m\u001b[43m,\u001b[49m\n\u001b[32m    702\u001b[39m \u001b[43m    \u001b[49m\u001b[43mn_threads\u001b[49m\u001b[43m,\u001b[49m\n\u001b[32m    703\u001b[39m \u001b[43m    \u001b[49m\u001b[43mpath\u001b[49m\u001b[43m,\u001b[49m\n\u001b[32m    704\u001b[39m \u001b[43m    \u001b[49m\u001b[43mdtype_list\u001b[49m\u001b[43m,\u001b[49m\n\u001b[32m    705\u001b[39m \u001b[43m    \u001b[49m\u001b[43mdtype_slice\u001b[49m\u001b[43m,\u001b[49m\n\u001b[32m    706\u001b[39m \u001b[43m    \u001b[49m\u001b[43mlow_memory\u001b[49m\u001b[43m,\u001b[49m\n\u001b[32m    707\u001b[39m \u001b[43m    \u001b[49m\u001b[43mcomment_prefix\u001b[49m\u001b[43m,\u001b[49m\n\u001b[32m    708\u001b[39m \u001b[43m    \u001b[49m\u001b[43mquote_char\u001b[49m\u001b[43m,\u001b[49m\n\u001b[32m    709\u001b[39m \u001b[43m    \u001b[49m\u001b[43mprocessed_null_values\u001b[49m\u001b[43m,\u001b[49m\n\u001b[32m    710\u001b[39m \u001b[43m    \u001b[49m\u001b[43mmissing_utf8_is_empty_string\u001b[49m\u001b[43m,\u001b[49m\n\u001b[32m    711\u001b[39m \u001b[43m    \u001b[49m\u001b[43mtry_parse_dates\u001b[49m\u001b[43m,\u001b[49m\n\u001b[32m    712\u001b[39m \u001b[43m    \u001b[49m\u001b[43mskip_rows_after_header\u001b[49m\u001b[43m,\u001b[49m\n\u001b[32m    713\u001b[39m \u001b[43m    \u001b[49m\u001b[43mparse_row_index_args\u001b[49m\u001b[43m(\u001b[49m\u001b[43mrow_index_name\u001b[49m\u001b[43m,\u001b[49m\u001b[43m \u001b[49m\u001b[43mrow_index_offset\u001b[49m\u001b[43m)\u001b[49m\u001b[43m,\u001b[49m\n\u001b[32m    714\u001b[39m \u001b[43m    \u001b[49m\u001b[43meol_char\u001b[49m\u001b[43m=\u001b[49m\u001b[43meol_char\u001b[49m\u001b[43m,\u001b[49m\n\u001b[32m    715\u001b[39m \u001b[43m    \u001b[49m\u001b[43mraise_if_empty\u001b[49m\u001b[43m=\u001b[49m\u001b[43mraise_if_empty\u001b[49m\u001b[43m,\u001b[49m\n\u001b[32m    716\u001b[39m \u001b[43m    \u001b[49m\u001b[43mtruncate_ragged_lines\u001b[49m\u001b[43m=\u001b[49m\u001b[43mtruncate_ragged_lines\u001b[49m\u001b[43m,\u001b[49m\n\u001b[32m    717\u001b[39m \u001b[43m    \u001b[49m\u001b[43mdecimal_comma\u001b[49m\u001b[43m=\u001b[49m\u001b[43mdecimal_comma\u001b[49m\u001b[43m,\u001b[49m\n\u001b[32m    718\u001b[39m \u001b[43m    \u001b[49m\u001b[43mschema\u001b[49m\u001b[43m=\u001b[49m\u001b[43mschema\u001b[49m\u001b[43m,\u001b[49m\n\u001b[32m    719\u001b[39m \u001b[43m\u001b[49m\u001b[43m)\u001b[49m\n\u001b[32m    720\u001b[39m \u001b[38;5;28;01mreturn\u001b[39;00m wrap_df(pydf)\n",
      "\u001b[31mFileNotFoundError\u001b[39m: The system cannot find the file specified. (os error 2): DATA/RAINFALLDATA.csv"
     ]
    }
   ],
   "source": [
    "import polars as pl\n",
    "df = pl.read_csv(\"data/file1.csv\")"
   ]
  }
 ],
 "metadata": {
  "kernelspec": {
   "display_name": ".venv",
   "language": "python",
   "name": "python3"
  },
  "language_info": {
   "codemirror_mode": {
    "name": "ipython",
    "version": 3
   },
   "file_extension": ".py",
   "mimetype": "text/x-python",
   "name": "python",
   "nbconvert_exporter": "python",
   "pygments_lexer": "ipython3",
   "version": "3.13.3"
  }
 },
 "nbformat": 4,
 "nbformat_minor": 5
}
