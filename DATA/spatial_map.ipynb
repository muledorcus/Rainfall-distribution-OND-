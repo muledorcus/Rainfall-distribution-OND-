{
 "cells": [
  {
   "cell_type": "code",
   "execution_count": null,
   "id": "6f5a3d07",
   "metadata": {},
   "outputs": [],
   "source": [
    "import pandas as pd\n",
    "import matplotlib.pyplot as plt\n",
    "\n",
    "# Load the data\n",
    "df = pd.read_csv(\"spatial_rainfall_data.csv\")\n",
    "\n",
    "# Create the plot\n",
    "plt.figure(figsize=(10, 6))\n",
    "scatter = plt.scatter(df['Longitude'], df['Latitude'], \n",
    "                      s=df['Rainfall_mm']*10,  # Scale the size for visibility\n",
    "                      c=df['Rainfall_mm'], cmap='Blues', alpha=0.6, edgecolors='black')\n",
    "\n",
    "# Add colorbar\n",
    "plt.colorbar(scatter, label='Rainfall (mm)')\n",
    "\n",
    "# Labels and title\n",
    "plt.xlabel('Longitude')\n",
    "plt.ylabel('Latitude')\n",
    "plt.title('Spatial Rainfall Distribution')\n",
    "\n",
    "# Show plot\n",
    "plt.grid(True)\n",
    "plt.show()\n"
   ]
  }
 ],
 "metadata": {
  "language_info": {
   "name": "python"
  }
 },
 "nbformat": 4,
 "nbformat_minor": 5
}
