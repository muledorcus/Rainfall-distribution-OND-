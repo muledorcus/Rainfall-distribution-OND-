{
 "cells": [
  {
   "cell_type": "code",
   "execution_count": 2,
   "id": "ee019049",
   "metadata": {},
   "outputs": [
    {
     "data": {
      "text/plain": [
       "7.3"
      ]
     },
     "execution_count": 2,
     "metadata": {},
     "output_type": "execute_result"
    }
   ],
   "source": [
    "def sum(a: float, b: float) -> float:\n",
    "    return a + b \n",
    "c =sum(2.3, 5)\n",
    "c"
   ]
  },
  {
   "cell_type": "code",
   "execution_count": 3,
   "id": "882bf438",
   "metadata": {},
   "outputs": [
    {
     "name": "stdout",
     "output_type": "stream",
     "text": [
      "4\n"
     ]
    }
   ],
   "source": [
    "def multiply(a: int, b: float=3.14159) -> float:\n",
    "    \"\"\"Multiply 2 numbers \n",
    "    Args:\n",
    "        a (int) first number\n",
    "        b (float, optional) : second number. defaults to 3.14159.\n",
    "    Returns:\n",
    "        float: the product of two number\n",
    "    \"\"\"\n",
    "    return a * b\n",
    "result = multiply(2,2)\n",
    "print(result)"
   ]
  },
  {
   "cell_type": "code",
   "execution_count": 4,
   "id": "95d077b1",
   "metadata": {},
   "outputs": [
    {
     "name": "stdout",
     "output_type": "stream",
     "text": [
      "15.70795\n"
     ]
    }
   ],
   "source": [
    "def complex(a: int, b: int) -> float:\n",
    "    c = float(sum(a, b))\n",
    "    d = multiply (c)\n",
    "    return d \n",
    "print(complex(2, 3))"
   ]
  }
 ],
 "metadata": {
  "kernelspec": {
   "display_name": ".venv",
   "language": "python",
   "name": "python3"
  },
  "language_info": {
   "codemirror_mode": {
    "name": "ipython",
    "version": 3
   },
   "file_extension": ".py",
   "mimetype": "text/x-python",
   "name": "python",
   "nbconvert_exporter": "python",
   "pygments_lexer": "ipython3",
   "version": "3.13.3"
  }
 },
 "nbformat": 4,
 "nbformat_minor": 5
}
